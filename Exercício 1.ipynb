{
 "cells": [
  {
   "cell_type": "markdown",
   "metadata": {},
   "source": [
    "# Análise sobre a violência armada nos EUA"
   ]
  },
  {
   "cell_type": "markdown",
   "metadata": {},
   "source": [
    "Este texto tem como objetivo analisar dados sobre incidentes violentos com armas de fogo ocorridos nos EUA entre os anos de 2013 e 2018, além de propor possíveis soluções que possam ajudar a diminuir a ocorrência de tais casos.\n",
    "\n",
    "## Análise de casos por estado"
   ]
  },
  {
   "cell_type": "code",
   "execution_count": null,
   "metadata": {},
   "outputs": [],
   "source": [
    "#imports das bibliotecas de dados e de visualização gráfica\n",
    "import matplotlib.pyplot as plt\n",
    "import pandas as pd"
   ]
  },
  {
   "cell_type": "markdown",
   "metadata": {},
   "source": [
    "Podemos começar analisando os estados com mais mortos/feridos por armas de fogo"
   ]
  },
  {
   "cell_type": "code",
   "execution_count": null,
   "metadata": {},
   "outputs": [],
   "source": [
    "#lê o arquivo csv indicado no case\n",
    "gvData = pd.read_csv(\"gvData.csv\") \n",
    "#extrai a soma do numero de mortos/feridos por estado\n",
    "dataKilled = gvData.groupby('state')['n_killed'].sum().sort_values(ascending=False)[:8]\n",
    "dataInjured = gvData.groupby('state')['n_injured'].sum().sort_values(ascending=False)[:8]\n",
    "#extrai a soma do numero de mortos e feridos por estado\n",
    "dataMisc = gvData.groupby('state')['n_injured'].count().sort_values(ascending=False)[:8]\n",
    "#define as propriedades da figura e seus subgráficos e forma a visualização\n",
    "plt.figure(figsize=(15,12))\n",
    "plt.subplot(3,1,1)\n",
    "plt.plot(dataInjured,c='y',linewidth=4.0)\n",
    "plt.xlabel('Estados')\n",
    "plt.ylabel('N° de feridos')\n",
    "plt.subplot(3,1,2)\n",
    "plt.plot(dataKilled,c='r',linewidth=4.0)\n",
    "plt.xlabel('Estados')\n",
    "plt.ylabel('N° de mortos')\n",
    "plt.subplot(3,1,3)\n",
    "plt.plot(dataMisc,c='b',linewidth=4.0)\n",
    "plt.xlabel('Estados')\n",
    "plt.ylabel('N° de vítimas total')"
   ]
  },
  {
   "cell_type": "markdown",
   "metadata": {},
   "source": [
    "Com base nos dados dos gráficos acima provenientes do dataset encontrado em https://www.kaggle.com/jameslko/gun-violence-data\n",
    "podemos ter uma noção geral da magnetude dos números relacionados aos incidentes com armas de fogo, mas para obtermos resultados mais sólidos, é melhor analisar as taxas de morte a cada 100 mil habitantes por estado. Para tal usaremos os dados fornecidos pela CDC(Centers for Disease Control and Prevention) que podem ser encontrados em https://www.cdc.gov/nchs/pressroom/sosmap/firearm_mortality/firearm.htm, no gráfico abaixo analisaremos dados de mortes por arma de fogo em 2018\n",
    "\n",
    "## Dados de mortalidade com armas de fogo a cada 100 mil habitantes"
   ]
  },
  {
   "cell_type": "code",
   "execution_count": null,
   "metadata": {},
   "outputs": [],
   "source": [
    "#lê o arquivo csv do cdc\n",
    "mData = pd.read_csv(\"fms.csv\")\n",
    "#extrai o índice de mortos a cada 100k por estado\n",
    "deathRateByState=mData.groupby('STATE')['RATE'].max().sort_values(ascending=False)[:15]\n",
    "#settings do grafico\n",
    "plt.figure(figsize=(15,5))\n",
    "plt.xlabel('Estados')\n",
    "plt.ylabel('Mortos/100 mil habitantes')\n",
    "plt.title('Mortos a cada 100 mil habitantes por estado em 2018 (mais violentos)')\n",
    "plt.plot(deathRateByState,c='r',linewidth=4.0)\n"
   ]
  },
  {
   "cell_type": "markdown",
   "metadata": {},
   "source": [
    "com o gráfico acima podemos traçar um paralelo entre a taxa de mortalidade e o quão liberais são as políticas relacionadas a posse e ao porte de armas dos estados com mais mortes do gráfico:"
   ]
  },
  {
   "cell_type": "code",
   "execution_count": null,
   "metadata": {},
   "outputs": [],
   "source": [
    "#lê o arquivo csv que compilei\n",
    "lData = pd.read_csv(\"laws.csv\")\n",
    "#extrai os dados do arquivo\n",
    "lawRating = lData[['STATE','LAWS_RATING']][:8]\n",
    "#montagem e visualização do gráfico\n",
    "plt.figure(figsize=(15,5))\n",
    "plt.xlabel('Estados')\n",
    "plt.ylabel('Facilidade de se portar/comprar armas')\n",
    "plt.ylim(3,5.5)\n",
    "plt.title('Facilidade de posse/porte de armas de fogo por estado')\n",
    "plt.plot(lawRating['STATE'].values ,lawRating['LAWS_RATING'].values,c='r',linewidth=4.0,marker=\"o\")"
   ]
  },
  {
   "cell_type": "markdown",
   "metadata": {},
   "source": [
    "Para entendermos o gráfico temos de levar em consideração 1 configuraria num estado com reis rigorosíssimas quanto ao porte e a posse de armas, e que 5 é o mais liberal possível dentro das limitações da legislação dos EUA, o gráfico acima foi compilado a partir das informações disponíveis no site Guns to Carry: https://www.gunstocarry.com/gun-laws-state/.\n",
    "        Com as informações apresentadas nos dois últimos gráficos(mortes a cada 100 mil habitantes e facilidade de acesso) podemos perceber um padrão recorrente em todos os estados com maiores índices de mortes, percebe-se que em todos eles as leis para aquisição e porte de armas são muito mais brandas. Agora verificaremos o que acontece nos estados com menos mortes por arma de fogo."
   ]
  },
  {
   "cell_type": "code",
   "execution_count": null,
   "metadata": {},
   "outputs": [],
   "source": [
    "deathRateByState=mData.groupby('STATE')['RATE'].min().sort_values(ascending=False)[20:]\n",
    "plt.figure(figsize=(15,5))\n",
    "plt.xlabel('Estados')\n",
    "plt.ylabel('Mortos/100 mil habitantes')\n",
    "plt.title('Mortos a cada 100 mil habitantes por estado em 2018 (menos violentos)')\n",
    "plt.plot(deathRateByState,c='r',linewidth=4.0)"
   ]
  },
  {
   "cell_type": "markdown",
   "metadata": {},
   "source": [
    "Analisando as leis dos estados com menos mortes temos:"
   ]
  },
  {
   "cell_type": "code",
   "execution_count": null,
   "metadata": {},
   "outputs": [],
   "source": [
    "lData = pd.read_csv(\"laws.csv\")\n",
    "lawRating = lData[['STATE','LAWS_RATING']][8:]\n",
    "plt.figure(figsize=(15,5))\n",
    "plt.xlabel('Estados')\n",
    "plt.ylabel('Facilidade de se portar/comprar armas')\n",
    "plt.ylim(.5,5)\n",
    "plt.title('Facilidade de posse/porte de armas de fogo por estado')\n",
    "plt.plot(lawRating['STATE'].values ,lawRating['LAWS_RATING'].values,c='r',linewidth=4.0,marker=\"o\")"
   ]
  },
  {
   "cell_type": "markdown",
   "metadata": {},
   "source": [
    "Analisando esses 2 últimos gráficos podemos perceber que de forma geral os estados com menos mortes possuem leis mais rígidas quanto ao controle de armas "
   ]
  },
  {
   "cell_type": "markdown",
   "metadata": {},
   "source": [
    "## Concluindo\n",
    "Ao analisar todas as informações disponibilizadas não podemos chegar a uma conclusão definitiva sobre a efetividade de se ter leis mais rígidas em relação a diminuição do número de mortes de armas de fogo, pois não sempre um estado com leis mais brandas quanto ao posse de armas de fogo terá um indíce de mortes maior que um estado com leis mais estritas, Como o estado de New Hampshire, que apesar de ter um nível de facilidade de aquisição e porte 4, tem menos mortes por 100 mil habitantes que Iowa, estado com índice de facilidade de aquisição 3. Entretanto, de uma perspectiva homogênea, pode-se entender que leis mais rígidas tendem a impactar positivamente, mesmo que marginalmente, o índice de incidentes fatais a cada 100 mil habitantes num estado e é, portanto, a decisão a qual aconselharia o Senador tomar(não levando em considerção as consequências políticas causadas por tais decisões, que provavelmente inviabilizariam sua ascensão dependendo da reação do povo daquele estado)."
   ]
  }
 ],
 "metadata": {
  "celltoolbar": "Raw Cell Format",
  "kernelspec": {
   "display_name": "Python 3",
   "language": "python",
   "name": "python3"
  },
  "language_info": {
   "codemirror_mode": {
    "name": "ipython",
    "version": 3
   },
   "file_extension": ".py",
   "mimetype": "text/x-python",
   "name": "python",
   "nbconvert_exporter": "python",
   "pygments_lexer": "ipython3",
   "version": "3.7.4"
  },
  "varInspector": {
   "cols": {
    "lenName": 16,
    "lenType": 16,
    "lenVar": 40
   },
   "kernels_config": {
    "python": {
     "delete_cmd_postfix": "",
     "delete_cmd_prefix": "del ",
     "library": "var_list.py",
     "varRefreshCmd": "print(var_dic_list())"
    },
    "r": {
     "delete_cmd_postfix": ") ",
     "delete_cmd_prefix": "rm(",
     "library": "var_list.r",
     "varRefreshCmd": "cat(var_dic_list()) "
    }
   },
   "types_to_exclude": [
    "module",
    "function",
    "builtin_function_or_method",
    "instance",
    "_Feature"
   ],
   "window_display": false
  }
 },
 "nbformat": 4,
 "nbformat_minor": 2
}
